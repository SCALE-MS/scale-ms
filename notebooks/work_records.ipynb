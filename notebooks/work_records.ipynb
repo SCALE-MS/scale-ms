{
 "cells": [
  {
   "cell_type": "code",
   "execution_count": null,
   "metadata": {
    "pycharm": {
     "is_executing": false
    }
   },
   "outputs": [],
   "source": [
    "# 1. Demonstrate some hand-written work graphs of varying complexity.\n",
    "# 2. Demonstrate a simple Context that can hold a valid work graph, but not execute it.\n",
    "# 3. Implement one or two Operation factories that establish a work graph.\n",
    "# 4. Serialize and deserialize a work graph."
   ]
  },
  {
   "cell_type": "code",
   "execution_count": null,
   "metadata": {
    "pycharm": {
     "is_executing": false,
     "name": "#%%\n"
    }
   },
   "outputs": [],
   "source": [
    "import json\n",
    "import collections\n",
    "import hashlib\n",
    "import networkx\n",
    "import numpy"
   ]
  },
  {
   "cell_type": "code",
   "execution_count": null,
   "metadata": {
    "pycharm": {
     "is_executing": false,
     "name": "#%%\n"
    }
   },
   "outputs": [],
   "source": [
    "# Prototypical records as native Python dictionaries.\n",
    "\n",
    "def graph_prototype():\n",
    "    return {'version': 'gmxapi_graph_0_2',\n",
    "            'elements': {}}\n",
    "\n",
    "def element_prototype():\n",
    "    return {'label': None,\n",
    "            'operation': None,\n",
    "            'input': {},\n",
    "            'output': {},\n",
    "            'depends': [],\n",
    "            'interface': {}}"
   ]
  },
  {
   "cell_type": "code",
   "execution_count": null,
   "metadata": {
    "pycharm": {
     "is_executing": false,
     "name": "#%%\n"
    }
   },
   "outputs": [],
   "source": [
    "# This information in this record packages a 2x2 integer array source terminal.\n",
    "\n",
    "sample1 = {\n",
    "    'version': 'gmxapi_graph_0_2',\n",
    "    'elements': {\n",
    "        '69e69fedbdbab6dcda556db6d5835375cefb4e801fb8279d0d7ef3995154bc15': {\n",
    "            'label': 'my_array',\n",
    "            'operation': ['gmxapi', 'Integer64'],\n",
    "            'input': {'data': [[0, 1], [2, 3]]},\n",
    "            'output': {\n",
    "                'meta': {\n",
    "                    'type': 'gmxapi.Integer64',\n",
    "                    'shape': [2,2]\n",
    "                }\n",
    "            }\n",
    "        }\n",
    "    }\n",
    "}"
   ]
  },
  {
   "cell_type": "code",
   "execution_count": null,
   "metadata": {
    "pycharm": {
     "is_executing": false,
     "name": "#%%\n"
    }
   },
   "outputs": [],
   "source": [
    "sample2 = {\n",
    "    'version': 'gmxapi_graph_0_2',\n",
    "    'elements': {\n",
    "        'cli_XXX': {\n",
    "            'namespace': 'gmxapi',\n",
    "            'operation': 'cli',\n",
    "            # 'input': [[0, 1], [2, 3]],\n",
    "            # 'output': {\n",
    "            #     'meta': {\n",
    "            #         'type': 'gmxapi.Integer',\n",
    "            #         'shape': [2,2]\n",
    "            #     }\n",
    "            # }\n",
    "        }\n",
    "    }\n",
    "}"
   ]
  },
  {
   "cell_type": "code",
   "execution_count": null,
   "metadata": {
    "pycharm": {
     "is_executing": false,
     "name": "#%%\n"
    }
   },
   "outputs": [],
   "source": [
    "class WorkGraph(collections.UserDict):\n",
    "    \"\"\"Helper class to hold a representation of a deserialized work graph.\n",
    "    \n",
    "    This is not intended to be a required part of the object model, but just a\n",
    "    tool for validation or visualization. Client code should interact with a\n",
    "    work graph through a Context. The Context is free to use an appropriate\n",
    "    internal data structure.\n",
    "    \"\"\"\n",
    "    def __init__(self):\n",
    "        super().__init__(graph_prototype())"
   ]
  },
  {
   "cell_type": "code",
   "execution_count": null,
   "metadata": {
    "pycharm": {
     "is_executing": false,
     "name": "#%%\n"
    }
   },
   "outputs": [],
   "source": [
    "graph = WorkGraph()\n",
    "graph['elements']['foo'] = 'bar'\n",
    "print(WorkGraph().data)"
   ]
  },
  {
   "cell_type": "code",
   "execution_count": null,
   "metadata": {
    "pycharm": {
     "is_executing": false,
     "name": "#%%\n"
    }
   },
   "outputs": [],
   "source": [
    "# Key types\n",
    "\n",
    "class ObjectName(collections.UserString):\n",
    "    def __init__(self, name: str):\n",
    "        # TODO: validation\n",
    "        super().__init__(name)\n",
    "\n",
    "class Label(collections.UserString):\n",
    "    def __init__(self, name: str):\n",
    "        # TODO: validation\n",
    "        super().__init__(name)\n",
    "\n",
    "# Value types\n",
    "\n",
    "class Data:\n",
    "    \"\"\"Literal data for work graph input values.\n",
    "    \n",
    "    Literal data objects are dense arrays of uniform element type. \n",
    "    \"\"\"\n",
    "\n",
    "class Collection:\n",
    "    \"\"\"Value that is a nested mapping of keys to value objects.\n",
    "    \n",
    "    Keys are strings subject to the constraints of Label.\n",
    "    \n",
    "    Values are Data, Collections, or References.\n",
    "    \"\"\"\n",
    "\n",
    "class Reference:\n",
    "    \"\"\"Work record value object that is a reference to another graph entity.\"\"\""
   ]
  },
  {
   "cell_type": "code",
   "execution_count": null,
   "metadata": {
    "pycharm": {
     "is_executing": false,
     "name": "#%%\n"
    }
   },
   "outputs": [],
   "source": [
    "# Manage the structure and rules of a work record.\n",
    "import copy\n",
    "class WorkRecord(collections.UserDict):\n",
    "    def __init__(self):\n",
    "        super().__init__(graph_prototype())\n",
    "        \n",
    "    def __getitem__(self, item):\n",
    "        return copy.deepcopy(super().__getitem__(item))\n",
    "\n",
    "    def as_json(self, **kwargs):\n",
    "        import json\n",
    "        json.dumps(self.data, **kwargs)\n",
    "        "
   ]
  },
  {
   "cell_type": "code",
   "execution_count": null,
   "metadata": {
    "pycharm": {
     "is_executing": false,
     "name": "#%%\n"
    }
   },
   "outputs": [],
   "source": [
    "record = WorkRecord()\n",
    "print(str(record))\n",
    "print(repr(record))\n",
    "print(record)"
   ]
  },
  {
   "cell_type": "code",
   "execution_count": null,
   "metadata": {
    "pycharm": {
     "is_executing": false,
     "name": "#%%\n"
    }
   },
   "outputs": [],
   "source": [
    "import collections\n",
    "import json    \n",
    "import typing\n",
    "\n",
    "# The behavior of `bytes` is sufficient that a UID class is probably not necessary,\n",
    "# though we might want to guarantee that a UID is exactly 32 bytes. TBD...\n",
    "\n",
    "class Fingerprint(object):\n",
    "    import hashlib as _hashlib\n",
    "\n",
    "    def __init__(self, *, \n",
    "                 operation: typing.Sequence, \n",
    "                 input: typing.Union[str, typing.Mapping], \n",
    "                 depends: typing.Sequence = ()):\n",
    "\n",
    "        # TODO: replace (list, tuple) with abstraction for valid operation values\n",
    "        if not isinstance(operation, (list, tuple)):\n",
    "            raise ValueError('Fingerprint requires a sequence of operation name components.')\n",
    "        else:\n",
    "            self.operation = tuple(operation)\n",
    "\n",
    "        # TODO: replace (dict, str) with abstraction for valid input values.\n",
    "        if not isinstance(input, (dict, str)):\n",
    "            raise ValueError('Fingerprint requires a valid input representation.')\n",
    "        elif isinstance(input, str):\n",
    "            # TODO: chase reference\n",
    "            self.input = str(input)\n",
    "        else:\n",
    "            assert isinstance(input, dict)\n",
    "            self.input = {key: value for key, value in input.items()}\n",
    "\n",
    "        # TODO: replace (list, tuple) with abstraction for valid depends values.\n",
    "        if not isinstance(depends, (list, tuple)):\n",
    "            ValueError('Fingerprint requires a sequence for dependency specification.')\n",
    "        else:\n",
    "            self.depends = tuple(depends)\n",
    "    \n",
    "    def compact_json(self):\n",
    "        identifiers = collections.OrderedDict([\n",
    "            ('depends', self.depends),\n",
    "            ('input', self.input),\n",
    "            ('operation', self.operation)\n",
    "        ])\n",
    "        id_string = json.dumps(identifiers,separators=(',', ':'), sort_keys=True, ensure_ascii=True)\n",
    "        return id_string\n",
    "\n",
    "    def uid(self) -> bytes:\n",
    "        id_string = self.compact_json()\n",
    "        id_bytes = id_string.encode('utf-8')\n",
    "        id_hash = Fingerprint._hashlib.sha256(id_bytes)\n",
    "        size = id_hash.digest_size\n",
    "        if not size == 32:\n",
    "            raise ValueError('Expected digest_size 8, but got {}'.format(size))\n",
    "        digest = id_hash.digest()\n",
    "        assert isinstance(digest, bytes)\n",
    "        assert len(digest) == size\n",
    "        return digest\n",
    "\n",
    "\n",
    "class OperationIdentifier(tuple):\n",
    "    def namespace(self):\n",
    "        return tuple(self[0:-2])\n",
    "    def operation_name(self):\n",
    "        return self[-1]\n",
    "    def __str__(self):\n",
    "        return '.'.join(self)\n",
    "\n",
    "    \n",
    "class Integer64(object):\n",
    "    import json as _json\n",
    "    # TODO: Replace numpy dependency with memoryview manager or core gmxapi\n",
    "    #  buffer protocol provider.\n",
    "    # Note that the built-in Python array module only provides 1-dimensional arrays.\n",
    "    from numpy import array as _array\n",
    "    \n",
    "    operation = OperationIdentifier(['gmxapi', 'Integer64'])\n",
    "    \n",
    "    def __init__(self, data):\n",
    "        # Note: numpy may be too forgiving regarding source data and we may want extra sanitization.\n",
    "        self.data = Integer64._array(data, dtype='int64')\n",
    "    \n",
    "    def to_json(self, **json_args) -> str:\n",
    "        record = {\n",
    "            'operation': Integer64.operation,\n",
    "            'input': {'data': self.data.tolist()},\n",
    "            'depends': ()\n",
    "        }\n",
    "        serialization = Integer64._json.dumps(record, **json_args)\n",
    "        return serialization\n",
    "    \n",
    "    @classmethod\n",
    "    def from_json(cls, serialized: str):\n",
    "        record = cls._json.loads(serialized)\n",
    "        for required_key in ['operation', 'input']:\n",
    "            if required_key not in record:\n",
    "                raise ValueError('Invalid record received.')\n",
    "        if tuple(record['operation']) != cls.operation:\n",
    "            raise ValueError('Not a {} record.'.format(cls.operation))\n",
    "        if 'data' not in record['input']:\n",
    "            raise ValueError('Expected \"data\" input field.')\n",
    "        try:\n",
    "            data = cls._array(record['input']['data'], dtype='int64')    \n",
    "        # TODO: Handle exceptions as we figure out what can go wrong.\n",
    "        except ValueError as e:\n",
    "            raise ValueError('Could not create {} from data.'.format(cls.operation)) from e\n",
    "        return cls(data)\n",
    "            \n",
    "    def fingerprint(self):\n",
    "        return Fingerprint(operation=['gmxapi', 'Integer64'], input={'data': self.data.tolist()})\n",
    "\n",
    "# TODO: Probably want a generic SerializedOperation named type or abstract handling\n",
    "#  for the various ways const nodes could be passed."
   ]
  },
  {
   "cell_type": "code",
   "execution_count": null,
   "metadata": {
    "pycharm": {
     "is_executing": false,
     "name": "#%%\n"
    }
   },
   "outputs": [],
   "source": [
    "my_array = Integer64([[1,2], [3,4]])\n",
    "\n",
    "json_args = {'separators': (',', ':'),\n",
    "             'sort_keys': True}\n",
    "\n",
    "fingerprint = my_array.fingerprint()\n",
    "print(fingerprint.compact_json())\n",
    "\n",
    "uid = hashlib.sha256(fingerprint.compact_json().encode('utf-8')).digest()\n",
    "print(uid.hex())\n",
    "print(int.from_bytes(uid, byteorder='big'))\n",
    "\n",
    "uid = fingerprint.uid()\n",
    "print(uid.hex())\n",
    "print(int.from_bytes(uid, byteorder='big'))\n",
    "print(my_array.to_json(**json_args))"
   ]
  },
  {
   "cell_type": "code",
   "execution_count": null,
   "metadata": {
    "pycharm": {
     "is_executing": false,
     "name": "#%%\n"
    }
   },
   "outputs": [],
   "source": [
    "# Test fingerprinting for Integer64\n",
    "import hashlib\n",
    "\n",
    "expected_json = '{\"depends\":[],\"input\":{\"data\":[[1,2],[3,4]]},\"operation\":[\"gmxapi\",\"Integer64\"]}'\n",
    "estimated_json = my_array.to_json(**json_args)\n",
    "actual_json = fingerprint.compact_json()\n",
    "assert estimated_json == actual_json\n",
    "assert expected_json == actual_json\n",
    "\n",
    "expected_hash = hashlib.sha256(expected_json.encode('utf-8')).digest()\n",
    "actual_hash = my_array.fingerprint().uid()\n",
    "assert expected_hash == actual_hash\n",
    "\n",
    "print(expected_hash.hex())"
   ]
  },
  {
   "cell_type": "code",
   "execution_count": null,
   "metadata": {
    "pycharm": {
     "name": "#%%\n"
    }
   },
   "outputs": [],
   "source": [
    "# Test deserialization of Integer64\n",
    "\n",
    "my_array = Integer64.from_json('{\"depends\":[],\"input\":{\"data\":[[1,2],[3,4]]},\"operation\":[\"gmxapi\",\"Integer64\"]}')"
   ]
  },
  {
   "cell_type": "code",
   "execution_count": null,
   "metadata": {},
   "outputs": [],
   "source": []
  },
  {
   "cell_type": "code",
   "execution_count": null,
   "metadata": {
    "pycharm": {
     "is_executing": false,
     "name": "#%%\n"
    }
   },
   "outputs": [],
   "source": [
    "# Use Python xdr module with \"network\" byte order to establish\n",
    "# base line byte sequence for fingerprinting binary data.\n",
    "#\n",
    "# Let native data be established through transformations of the base line.\n",
    "# \n",
    "# Automatically generate reverse transformation and fingerprint so that later\n",
    "# transformations can be performed at minimal cost."
   ]
  },
  {
   "cell_type": "code",
   "execution_count": null,
   "metadata": {
    "pycharm": {
     "is_executing": false,
     "name": "#%%\n"
    }
   },
   "outputs": [],
   "source": [
    "# Use Python xdr module with \"network\" byte order to establish\n",
    "# base line byte sequence for fingerprinting binary data.\n",
    "#\n",
    "# Let native data be established through transformations of the base line.\n",
    "# \n",
    "# Automatically generate reverse transformation and fingerprint so that later\n",
    "# transformations can be performed at minimal cost."
   ]
  },
  {
   "cell_type": "code",
   "execution_count": null,
   "metadata": {
    "pycharm": {
     "is_executing": false,
     "name": "#%%\n"
    }
   },
   "outputs": [],
   "source": [
    "# Test fingerprinting for Integer64\n",
    "import hashlib\n",
    "\n",
    "expected_json = '{\"depends\":[],\"input\":{\"data\":[[1,2],[3,4]]},\"operation\":[\"gmxapi\",\"Integer64\"]}'\n",
    "expected_hash = hashlib.sha256(expected_json.encode('utf-8')).digest()\n",
    "print(expected_hash.hex())"
   ]
  },
  {
   "cell_type": "code",
   "execution_count": null,
   "metadata": {
    "pycharm": {
     "is_executing": false,
     "name": "#%%\n"
    }
   },
   "outputs": [],
   "source": [
    "# Use Python xdr module with \"network\" byte order to establish\n",
    "# base line byte sequence for fingerprinting binary data.\n",
    "#\n",
    "# Let native data be established through transformations of the base line.\n",
    "# \n",
    "# Automatically generate reverse transformation and fingerprint so that later\n",
    "# transformations can be performed at minimal cost."
   ]
  },
  {
   "cell_type": "code",
   "execution_count": null,
   "outputs": [],
   "source": [
    "# Demonstrate a simple Context that can hold a work graph (but which cannot execute anything).\n",
    "\n",
    "class SimpleGraphContext(object):\n",
    "    def __index__(self):\n",
    "        \"\"\"Initialize and empty Context.\"\"\"\n",
    "        self._work = WorkRecord()\n",
    "    \n",
    "    def serialize(self) -> str:\n",
    "        \"\"\"Create a serialized representation of the managed work.\"\"\"\n",
    "    \n",
    "    @classmethod\n",
    "    def deserialize(cls, record: str) -> 'SimpleGraphContext':\n",
    "        \"\"\"Create a new instance from a serialized record.\"\"\"\n",
    "        context = SimpleGraphContext()\n",
    "        return context\n",
    "    \n",
    "    def add_node(self, record: str):\n",
    "        \"\"\"Validate and add a node to the managed work graph.\n",
    "        \n",
    "        Initially requires a valid and fully formed JSON serialized record of\n",
    "        the new node.\n",
    "        \n",
    "        Arguments:\n",
    "            record (str): JSON serialized node to add.\n",
    "        \n",
    "        Returns:\n",
    "            Reference to the new node.\n",
    "        \"\"\"\n",
    "        try:\n",
    "            node_record = json.loads(record)\n",
    "            # assert hasattr(node_record, 'operation')\n",
    "            # assert hasattr(node_record, 'input')\n",
    "            # assert hasattr(node_record, 'output')\n",
    "        except:\n",
    "            message = 'Could not deserialize a node from argument to add_node.'\n",
    "            raise ValueError(message)\n",
    "        # \n",
    "        #return\n",
    "\n",
    "    @property\n",
    "    def nodes(self):\n",
    "        \"\"\"Access the node proxy for the managed work.\n",
    "        \n",
    "        To do...\n",
    "        \n",
    "        Reference the networkx.DiGraph `nodes` attribute.\n",
    "        \"\"\"\n",
    "        return {}"
   ],
   "metadata": {
    "collapsed": false,
    "pycharm": {
     "name": "#%%\n"
    }
   }
  },
  {
   "cell_type": "code",
   "execution_count": null,
   "metadata": {
    "pycharm": {
     "is_executing": false,
     "name": "#%%\n"
    }
   },
   "outputs": [],
   "source": [
    "# 1. Add a source node and a transformation operation to the graph.\n",
    "# 2. Serialize and deserialize the graph.\n",
    "# 3. Retrieve data from the source node and the operation result and check.\n",
    "\n",
    "my_array = Integer64([[1,2], [3,4]])\n",
    "context = SimpleGraphContext()\n",
    "array_ref = context.add_node(my_array.to_json())\n",
    "\n",
    "transpose = element_prototype()\n",
    "transpose['operation'] = ['scalems_test', 'transpose']\n",
    "# TODO: enable the following.\n",
    "#transpose['input'] = array_ref\n",
    "reference_string = my_array.fingerprint().uid().hex()\n",
    "transpose['input'] = reference_string\n",
    "transpose['output'] = {}\n",
    "\n",
    "context.add_node(transpose)"
   ]
  },
  {
   "cell_type": "code",
   "execution_count": null,
   "metadata": {
    "pycharm": {
     "is_executing": false,
     "name": "#%%\n"
    }
   },
   "outputs": [],
   "source": [
    "# 1. Add a source node and a transformation operation to the graph.\n",
    "# 2. Serialize and deserialize the graph.\n",
    "# 3. Retrieve data from the source node and the operation result and check.\n",
    "\n",
    "my_array = Integer64([[1,2], [3,4]])\n",
    "context = SimpleGraphContext()\n",
    "array_ref = context.add_node(my_array.to_json())\n",
    "\n",
    "transpose = element_prototype()\n",
    "transpose['operation'] = ['scalems_test', 'transpose']\n",
    "# TODO: enable the following.\n",
    "#transpose['input'] = array_ref\n",
    "reference_string = my_array.fingerprint().uid().hex()\n",
    "transpose['input'] = reference_string\n",
    "transpose['output'] = {}\n",
    "\n",
    "context.add_node(transpose)"
   ]
  },
  {
   "cell_type": "code",
   "execution_count": null,
   "metadata": {
    "pycharm": {
     "name": "#%%\n"
    }
   },
   "outputs": [],
   "source": [
    "\n"
   ]
  }
 ],
 "metadata": {
  "kernelspec": {
   "display_name": "Python 3",
   "language": "python",
   "name": "python3"
  },
  "language_info": {
   "codemirror_mode": {
    "name": "ipython",
    "version": 3
   },
   "file_extension": ".py",
   "mimetype": "text/x-python",
   "name": "python",
   "nbconvert_exporter": "python",
   "pygments_lexer": "ipython3",
   "version": "3.7.4"
  },
  "pycharm": {
   "stem_cell": {
    "cell_type": "raw",
    "source": [],
    "metadata": {
     "collapsed": false
    }
   }
  }
 },
 "nbformat": 4,
 "nbformat_minor": 1
}