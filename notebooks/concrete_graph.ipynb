{
 "cells": [
  {
   "cell_type": "code",
   "execution_count": null,
   "metadata": {
    "collapsed": true
   },
   "outputs": [],
   "source": [
    "# toy graph data flow: employ some looping and parallel data flow"
   ]
  },
  {
   "cell_type": "code",
   "execution_count": null,
   "outputs": [],
   "source": [
    "# The essential difference between an abstract graph and a concrete graph is that\n",
    "# the concrete graph has definite and immutable inputs and outputs, whereas an\n",
    "# abstract graph may have placeholder inputs and outputs that define connectivity\n",
    "# and high-level relationships. This may not be a functional distinction, but\n",
    "# just a usage distinction, if nodes may generally be used to prototype equivalent\n",
    "# nodes with different inputs, and if running nodes can cause additional nodes\n",
    "# to be generated.\n",
    "\n",
    "# Checkpoint abstraction should come into play when deserializing the concrete graph.\n",
    "# Artifacts associated with prior execution may or may not exist. Nodes will be \n",
    "# initialized in an appropriate state."
   ],
   "metadata": {
    "collapsed": false,
    "pycharm": {
     "name": "#%%\n"
    }
   }
  }
 ],
 "metadata": {
  "kernelspec": {
   "display_name": "Python 3",
   "language": "python",
   "name": "python3"
  },
  "language_info": {
   "codemirror_mode": {
    "name": "ipython",
    "version": 2
   },
   "file_extension": ".py",
   "mimetype": "text/x-python",
   "name": "python",
   "nbconvert_exporter": "python",
   "pygments_lexer": "ipython2",
   "version": "2.7.6"
  },
  "pycharm": {
   "stem_cell": {
    "cell_type": "raw",
    "source": [],
    "metadata": {
     "collapsed": false
    }
   }
  }
 },
 "nbformat": 4,
 "nbformat_minor": 0
}